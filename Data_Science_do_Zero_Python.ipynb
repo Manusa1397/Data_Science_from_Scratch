{
  "nbformat": 4,
  "nbformat_minor": 0,
  "metadata": {
    "colab": {
      "provenance": [],
      "toc_visible": true
    },
    "kernelspec": {
      "name": "python3",
      "display_name": "Python 3"
    },
    "language_info": {
      "name": "python"
    }
  },
  "cells": [
    {
      "cell_type": "markdown",
      "source": [
        "#Introdução à Ciência de Dados\n",
        "O primeiro desafio proposto pelo livro foi um problema onde no primeiro dia trabalhando na DataSciencester, fosse identificado os conectores chaves entre os cientistas de dados e para isso ele fornece o data dump. O data dump consiste em um dict contendo o id e name (este extraídos do banco de dados internacional de nomes aleatórios). Foi dado também o dict com os ID's de pares de amizades."
      ],
      "metadata": {
        "id": "dKFAxVV0gk2N"
      }
    },
    {
      "cell_type": "code",
      "source": [
        "users=[\n",
        "    {\"id\": 0, \"name\": \"Hero\"},\n",
        "    {\"id\": 1, \"name\": \"Dunn\"},\n",
        "    {\"id\": 2, \"name\": \"Sue\"},\n",
        "    {\"id\": 3, \"name\": \"Chi\"},\n",
        "    {\"id\": 4, \"name\": \"Thor\"},\n",
        "    {\"id\": 5, \"name\": \"Clive\"},\n",
        "    {\"id\": 6, \"name\": \"Hicks\"},\n",
        "    {\"id\": 7, \"name\": \"Devin\"},\n",
        "    {\"id\": 8, \"name\": \"Kate\"},\n",
        "    {\"id\": 9, \"name\": \"Klein\"}\n",
        "]\n",
        "\n",
        "friendship_pairs=[(0,1), (0,2), (1,2), (1,3), (2,3), (3,4), (4,5), (5,6), (5,7), (6,8), (7,8), (8,9)]"
      ],
      "metadata": {
        "id": "I61iDhWcilFZ"
      },
      "execution_count": null,
      "outputs": []
    },
    {
      "cell_type": "markdown",
      "source": [
        "Porém manter os pares de amizades não é muito eficiente, pois toda vez que fosse necessário verificar todas as amizades de cada indivíduo, seria necessário realizar uma iteração. Portanto vamos colocá-la em um dict com id e todas as suas respectivas amizades."
      ],
      "metadata": {
        "id": "aukbp29Nlo_K"
      }
    },
    {
      "cell_type": "code",
      "source": [
        "#Lista vazia para cada id no dict users\n",
        "friendships={user[\"id\"]: [] for user in users}\n",
        "\n",
        "#Adicionando as relações de amizades de cada id\n",
        "for i,j in friendship_pairs:\n",
        "  friendships[i].append(j)\n",
        "  friendships[j].append(i)"
      ],
      "metadata": {
        "id": "6QDyz6_nmMXL"
      },
      "execution_count": null,
      "outputs": []
    },
    {
      "cell_type": "markdown",
      "source": [
        "Agora podemos responder alguma sperguntas sobre conexões de amizades de maneira mais fácil:\n",
        "**Q1)** Qual é o número médio de conexões?\n",
        "**R.**: Para termos o número médio de conexões, precisamos antes saber o tamanho de cada lista do dicionário friendships."
      ],
      "metadata": {
        "id": "vGGM7gyVueha"
      }
    },
    {
      "cell_type": "code",
      "source": [
        "def number_of_friends(user):\n",
        "  \"\"\"Quantos amigos tem o user?\"\"\"\n",
        "  user_id=user[\"id\"]\n",
        "  friend_ids=friendships[user_id]\n",
        "  return len(friend_ids)\n",
        "\n",
        "total_connections=sum(number_of_friends(user) for user in users)\n",
        "#24\n",
        "\n",
        "#Para termos a média, basta dividirmos a soma pelo número total de conexões \n",
        "num_users=len(users)\n",
        "avg_connections=total_connections/num_users #2.4"
      ],
      "metadata": {
        "id": "rqPJK2-6vP7X"
      },
      "execution_count": null,
      "outputs": []
    },
    {
      "cell_type": "markdown",
      "source": [
        "**Q2)** Quais são as pessoas mais conectadas?\n",
        "**R.:** Para termos o ranking de pessoas começando da mais conectada para menos conectada, iremos crir uma lista onde a primeira posição é o id do usuário e a segunda é o número de conexões:"
      ],
      "metadata": {
        "id": "xLGtm52d03r_"
      }
    },
    {
      "cell_type": "code",
      "source": [
        "num_friends_by_id=[(user[\"id\"], number_of_friends(user)) for user in users]\n",
        "num_friends_by_id.sort(                                                          #classifiquei a lista\n",
        "                       key=lambda id_and_friends:id_and_friends[1],              #por número de amigos \n",
        "                       reverse=True)                                             #do maior para o menor"
      ],
      "metadata": {
        "id": "CkiAw0IX1Nj-"
      },
      "execution_count": null,
      "outputs": []
    },
    {
      "cell_type": "markdown",
      "source": [
        "A segunda parte do desafio consiste em realizarmos as sugestões de amizades. Ou seja, sugerir \"Cientista de dados que você talvez conheça\". Desta forma a solução mais simples seria trazer as conexões dos que os amigos do usuário possua. "
      ],
      "metadata": {
        "id": "YU6HYPeQ53UM"
      }
    },
    {
      "cell_type": "code",
      "source": [
        "def foaf_ids_bad(user):\n",
        "  \"\"\"foaf=friend of a friend\"\"\"\n",
        "  return [foaf_id\n",
        "            for friend_id in friendships[user[\"id\"]]\n",
        "            for foaf_id in friendships[friend_id]\n",
        "  ]\n",
        "\n",
        "print(foaf_ids_bad (users [5]))"
      ],
      "metadata": {
        "colab": {
          "base_uri": "https://localhost:8080/"
        },
        "id": "xZSTW-NICCYR",
        "outputId": "9799893d-92e1-44c0-8a65-5e22e955d42b"
      },
      "execution_count": null,
      "outputs": [
        {
          "output_type": "stream",
          "name": "stdout",
          "text": [
            "[3, 5, 5, 8, 5, 8]\n"
          ]
        }
      ]
    },
    {
      "cell_type": "markdown",
      "source": [
        "Porém temos um problema trazendo as conexões que os amigos que você possui tem. Pegando como exemplo as conexões do Clive (5), temos que ele é conectado com o user 4 (Thor),6 (Hicks), 7 (Devin). Isto resulta na função foaf_ids_bad trazendo as sugestões de conexões: (3, 5, 5, 8, 5, 8). Temos a sugestão 8 sendo repetidas 2 vezes, além do próprio Clive como sugestão de amizade dele mesmo 2 vezes seguidas. Podemos abordar a ideia de amigos em comum com cada conexão e iremos fazer isto a seguir:"
      ],
      "metadata": {
        "id": "xTViBTBeD3Fs"
      }
    },
    {
      "cell_type": "code",
      "source": [
        "from collections import Counter\n",
        "\n",
        "def friends_of_friends(user):\n",
        "  user_id=user[\"id\"]\n",
        "  return Counter(\n",
        "            foaf_id\n",
        "            for friend_id in friendships[user_id]   #Para cada amigo meu\n",
        "            for foaf_id in friendships[friend_id]   #Encontre os seus amigos\n",
        "            if foaf_id != user_id                   #Me excluindo\n",
        "            and foaf_id not in friendships[user_id] #e que já não sejam meus amigos \n",
        "  )\n",
        "\n",
        "print(friends_of_friends(users [5]))"
      ],
      "metadata": {
        "colab": {
          "base_uri": "https://localhost:8080/"
        },
        "id": "S7JOZXctG_y3",
        "outputId": "0da58c9a-f2bb-4164-8a96-8c17bd3b31ed"
      },
      "execution_count": null,
      "outputs": [
        {
          "output_type": "stream",
          "name": "stdout",
          "text": [
            "Counter({8: 2, 3: 1})\n"
          ]
        }
      ]
    },
    {
      "cell_type": "markdown",
      "source": [
        "Assim temos que o ID 5 tem o ID 8 (om 2 conexões em comum) e ID 3 (com 1 conexão em comum) como sugestões de amizades."
      ],
      "metadata": {
        "id": "-V7tI8FfPFqC"
      }
    },
    {
      "cell_type": "markdown",
      "source": [
        "O próximo desafio interessante neste capítulo do livro consistem na análise de salários e experiência de trabalho. Tendo o seguinte conjunto de dados no formato de lista, itemos plotár o gráfico de Salário Anual (dólares)x Anos de Experiência para a primeira análise:"
      ],
      "metadata": {
        "id": "a-xGsU7ZTmFP"
      }
    },
    {
      "cell_type": "code",
      "source": [
        "salarioxanosexp=[(83000, 8.7), (88000, 8.1), \n",
        "                 (48000, 0.7), (76000, 6),\n",
        "                 (69000, 6.5), (76000, 7.5),\n",
        "                 (60000, 2.5), (83000, 10),\n",
        "                 (48000, 1.9), (63000, 4.2)]\n",
        "\n",
        "y=[y[0] for y in salarioxanosexp]\n",
        "x=[x[1] for x in salarioxanosexp] # Separei salário e anos de experiência em eixos x e y para plotar o gráfico\n",
        "\n",
        "import matplotlib.pyplot as plt\n",
        "plt.plot(x, y, 'bo')\n",
        "plt.title(\"Salário x Anos de Experiência\")\n",
        "plt.xlabel(\"Anos de Experiência\")\n",
        "plt.ylabel(\"Salário\")\n",
        "plt.show()\n",
        "\n"
      ],
      "metadata": {
        "colab": {
          "base_uri": "https://localhost:8080/",
          "height": 473
        },
        "id": "LHeXHiAdUvwS",
        "outputId": "5b596cad-ce14-43b8-afdd-33992f24b1b9"
      },
      "execution_count": null,
      "outputs": [
        {
          "output_type": "display_data",
          "data": {
            "text/plain": [
              "<Figure size 640x480 with 1 Axes>"
            ],
            "image/png": "[encoded data removed]"
          },
          "metadata": {}
        }
      ]
    },
    {
      "cell_type": "markdown",
      "source": [
        "Analisando o gráfico, temos que o salário é maior conforme os anos de experiência do trabalhador em ciência de dados. Mas agora vamos analisar a média salarial utilizando faixas de anos de experiência: <2, >2 e <5, >5"
      ],
      "metadata": {
        "id": "zSDiQQfmker3"
      }
    },
    {
      "cell_type": "code",
      "source": [
        "import statistics\n",
        "\n",
        "menor2=[]\n",
        "entre2e5=[]\n",
        "maior5=[] \n",
        "for anos in range(len(x)):\n",
        "  if x[anos]<2:                     #Salário de quem tem <2 anos de experiência\n",
        "    menor2.append(y[anos])\n",
        "  elif x[anos]>=2 and x[anos]<=5:   #Salário de quem tem entre 2 e 5 anos de experiência\n",
        "    entre2e5.append(y[anos])\n",
        "  else:\n",
        "    maior5.append(y[anos])          #Salário de quem tem >5 anos de experiência\n",
        "\n",
        "#Média dos salários por faixa\n",
        "media_menor2= statistics.mean(menor2)   #48000 dólares\n",
        "media_entre2e5= statistics.mean(entre2e5) #61500 dólares\n",
        "media_maior5= statistics.mean(maior5)   #79166.66666666667 dólares\n"
      ],
      "metadata": {
        "id": "470FlFWqliLR"
      },
      "execution_count": null,
      "outputs": []
    },
    {
      "cell_type": "markdown",
      "source": [
        "Desta forma podemos observar que quem tem menos de 2 anos de experiência recebe aproximadamente 20 mil dólares a menos por ano do que quem tem masi de 5 anos de experiência."
      ],
      "metadata": {
        "id": "kLU6ZvJBpDYj"
      }
    },
    {
      "cell_type": "markdown",
      "source": [
        "# Lembrete de funcionalidades de Python\n",
        "Aqui irei deixar algumas funcionalidades que aprendi recentemente para utilizar como consulta."
      ],
      "metadata": {
        "id": "uxdz497wCksB"
      }
    },
    {
      "cell_type": "markdown",
      "source": [
        "1. **Função Lambda:**\n",
        "É uma função denominada anônima. Ela é utilizada quando queremos utilizá-la de parrâmetro em outra função. Assim o código fica mais enxuto. A seguir irei utilizar um exemplo com e sem a utilização da função lambda."
      ],
      "metadata": {
        "id": "OLWtVLLYC6a1"
      }
    },
    {
      "cell_type": "code",
      "source": [
        "valor=100\n",
        "\n",
        "def imposto(valor): #Função para calcular o importo em cima do valor\n",
        "  return valor*0.3\n",
        "\n",
        "print(imposto(valor))\n",
        "\n",
        "valor_lambda=lambda x: x*0.3 #Utilizando o Lambda\n",
        "print(valor_lambda(valor))"
      ],
      "metadata": {
        "colab": {
          "base_uri": "https://localhost:8080/"
        },
        "id": "VdCFtlVSDc6J",
        "outputId": "d028a699-10c2-4e76-a7a7-04a373b02d9b"
      },
      "execution_count": null,
      "outputs": [
        {
          "output_type": "stream",
          "name": "stdout",
          "text": [
            "30.0\n",
            "30.0\n"
          ]
        }
      ]
    },
    {
      "cell_type": "markdown",
      "source": [
        "2. **Função Map:**\n",
        "Esta função aplica em cima de cada valor de uma lista a função. Porém se você não definí-lo como uma lista, ele não vai retornar os valores da maneira que você gostaria."
      ],
      "metadata": {
        "id": "bf3mIyL0Eqge"
      }
    },
    {
      "cell_type": "code",
      "source": [
        "lista=[10,20,30,40,50]\n",
        "\n",
        "print(list(map(valor_lambda,lista)))"
      ],
      "metadata": {
        "colab": {
          "base_uri": "https://localhost:8080/"
        },
        "id": "nay_dBwDE2wE",
        "outputId": "2fc2018b-512b-4801-9326-e9d66e8308cd"
      },
      "execution_count": null,
      "outputs": [
        {
          "output_type": "stream",
          "name": "stdout",
          "text": [
            "[3.0, 6.0, 9.0, 12.0, 15.0]\n"
          ]
        }
      ]
    },
    {
      "cell_type": "markdown",
      "source": [
        "3. **Função Extend:** \n",
        "Concatena listas."
      ],
      "metadata": {
        "id": "O9OnzcxHGiA1"
      }
    },
    {
      "cell_type": "code",
      "source": [
        "a=[10,20,30]\n",
        "a.extend([40,50,60])\n",
        "print(a)"
      ],
      "metadata": {
        "colab": {
          "base_uri": "https://localhost:8080/"
        },
        "id": "B2ZijRPAGoDT",
        "outputId": "f7647287-38f8-407f-b493-0322bb7ddba3"
      },
      "execution_count": null,
      "outputs": [
        {
          "output_type": "stream",
          "name": "stdout",
          "text": [
            "[10, 20, 30, 40, 50, 60]\n"
          ]
        }
      ]
    },
    {
      "cell_type": "markdown",
      "source": [
        "4. Descompactar listas: \n",
        "Podemos descompactá-las de forma simples através de uma equação."
      ],
      "metadata": {
        "id": "jUJRQiFiHG8P"
      }
    },
    {
      "cell_type": "code",
      "source": [
        "a,b=[3,6] # 1º e 2º elementos considerados\n",
        "_,b=[3,6] # Somente o 2º elemento considerado"
      ],
      "metadata": {
        "id": "ogAqkQLwIsoT"
      },
      "execution_count": null,
      "outputs": []
    },
    {
      "cell_type": "markdown",
      "source": [
        "5. **Tuplas:** As tuplas podem ser representados da seguinte maneira e não podem ser modificadas:"
      ],
      "metadata": {
        "id": "qLneI9Yt0--v"
      }
    },
    {
      "cell_type": "code",
      "source": [
        "t=(9,2) #representação com parênteses\n",
        "\n",
        "T=9,2 #representação sem parênteses\n",
        "T[0]=1 #Irá retornar erro pois não podemos modificar a Tupla"
      ],
      "metadata": {
        "colab": {
          "base_uri": "https://localhost:8080/",
          "height": 200
        },
        "id": "ppMbKr1S1JRM",
        "outputId": "39932164-c64c-45a5-bd68-6da7fca7a979"
      },
      "execution_count": null,
      "outputs": [
        {
          "output_type": "error",
          "ename": "TypeError",
          "evalue": "ignored",
          "traceback": [
            "\u001b[0;31m---------------------------------------------------------------------------\u001b[0m",
            "\u001b[0;31mTypeError\u001b[0m                                 Traceback (most recent call last)",
            "\u001b[0;32m<ipython-input-2-487cb8bacc48>\u001b[0m in \u001b[0;36m<cell line: 4>\u001b[0;34m()\u001b[0m\n\u001b[1;32m      2\u001b[0m \u001b[0;34m\u001b[0m\u001b[0m\n\u001b[1;32m      3\u001b[0m \u001b[0mT\u001b[0m\u001b[0;34m=\u001b[0m\u001b[0;36m9\u001b[0m\u001b[0;34m,\u001b[0m\u001b[0;36m2\u001b[0m\u001b[0;34m\u001b[0m\u001b[0;34m\u001b[0m\u001b[0m\n\u001b[0;32m----> 4\u001b[0;31m \u001b[0mT\u001b[0m\u001b[0;34m[\u001b[0m\u001b[0;36m0\u001b[0m\u001b[0;34m]\u001b[0m\u001b[0;34m=\u001b[0m\u001b[0;36m1\u001b[0m \u001b[0;31m#Irá retornar erro pois não podemos modificar a Tupla\u001b[0m\u001b[0;34m\u001b[0m\u001b[0;34m\u001b[0m\u001b[0m\n\u001b[0m",
            "\u001b[0;31mTypeError\u001b[0m: 'tuple' object does not support item assignment"
          ]
        }
      ]
    },
    {
      "cell_type": "markdown",
      "source": [
        "6. **Dicionários:** Irei deixar algumas anotações sobre dicionários, pois ainda acabo esquecendo alguns pontos:"
      ],
      "metadata": {
        "id": "s3UzpuhP1npF"
      }
    },
    {
      "cell_type": "code",
      "source": [
        "dict_vazio={}                      #forma Pythonic\n",
        "dict_vazio2=dict()                 #menos Pythonic\n",
        "notas={\"Lucas\":9.8, \"Diego\": 6.3}  #dicionário literal\n",
        "\n",
        "#Forma correta de verificar se um nome consta no dicionário criado e é rápido mesmo em dicts grandes\n",
        "Manu_notas=\"Manusa\" in notas #False\n",
        "Lu_notas=\"Lucas\" in notas    #True\n",
        "\n",
        "#Forma de procurr valor em dict\n",
        "Lu_notas2=notas.get(\"Lucas\")     #9.8 -> poderia indicar a posição que se encontra também. No caso 0\n",
        "Manu_notas2=notas.get(\"Manusa\")  #Retorna None porque não existe\n",
        "\n",
        "#Substituindo um valor \n",
        "notas[\"Diego\"]=6.9\n",
        "\n",
        "#Adicionando outra entrada em notas\n",
        "notas[\"Isabella\"]=7.4\n",
        "\n",
        "chaves_notas=notas.keys()     #Retorna as chaves\n",
        "valores_notas=notas.values()  #Retorna os valores das chaves\n",
        "items_notas=notas.items()     #Retorna as chaves e valores (item no todo)"
      ],
      "metadata": {
        "id": "kQW0EIja2Ubt"
      },
      "execution_count": null,
      "outputs": []
    },
    {
      "cell_type": "code",
      "source": [
        "from collection import defaultdict\n",
        "\n",
        "\"\"\"A função defaultdict permite que manipulemos dicionários e na ausência \n",
        "de alguma chave/item, ele cria uma chave de valor zero ao invés de retornar erro\"\"\""
      ],
      "metadata": {
        "id": "7z6dC5zFscyX"
      },
      "execution_count": null,
      "outputs": []
    },
    {
      "cell_type": "markdown",
      "source": [
        ". 7. **Assertação/asserts:** Durante este estudo iremos utilizar a forma de verificação do correto funcionamento do código através da forma assertativa."
      ],
      "metadata": {
        "id": "koJOlPrCurKs"
      }
    },
    {
      "cell_type": "markdown",
      "source": [
        "#Estatística\n",
        "\n",
        "Neste capitulo o livro aborda um dos conceitos mais importantes dentro da ciência de dados: conceito de estatística para análise dos dados. Não irei entrar muito a fundo neste tópico porque já o estudei durante o curso de Engenharia Biomédica (inclusive programando em Python). Então mencionarei os tópicos mais importantes."
      ],
      "metadata": {
        "id": "ukQ8Zs8Wyi4J"
      }
    },
    {
      "cell_type": "markdown",
      "source": [
        "##Tendências Centrais\n",
        "*   **Média:** é o metodo mais simples e rápido para a avaliação de uma tendência central, pois avalia o ponto central de um conjunto de dados. **Ponto negativo:** Sensibilidade a outliers.\n",
        "*   **Mediana:** Requer a ordenação dos dados para dividí-los igualmente em duas partes e a mediana será o ponto central entre essas 2 metades. Caso o conjunto seja par, a mediana será a média dos dois pontos centrais.\n",
        "*   **Moda:** Retorna os elementos que mais se repetem dentro do conjunto. \n",
        "\n"
      ],
      "metadata": {
        "id": "6dbYHluefGtH"
      }
    },
    {
      "cell_type": "markdown",
      "source": [
        "##Dispersão\n",
        "\n",
        "Ele avalia o nível de dispersão do conjunto de dados.\n",
        "\n",
        "*   Amplitude: quando iguala zero indica que os dados não estão dispersos e quanto maior, maior é a dispersão.\n"
      ],
      "metadata": {
        "id": "3OJJsV5MhLFr"
      }
    },
    {
      "cell_type": "code",
      "source": [
        "import matplotlib.pyplot as plt\n",
        "\n",
        "num_friends1 = [100.0,49,41,40,25,21,21,19,19,18,18,16,15,15,15,15,14,14,13,13,13,13,12,12,11,10,10,10,10,10,10,10,10,10,10,10,10,10,10,10,9,9,9,9,9,9,9,9,9,9,9,9,9,9,9,9,9,9,8,8,8,8,8,8,8,8,8,8,8,8,8,7,7,7,7,7,7,7,7,7,7,7,7,7,7,7,6,6,6,6,6,6,6,6,6,6,6,6,6,6,6,6,6,6,6,6,6,6,5,5,5,5,5,5,5,5,5,5,5,5,5,5,5,5,5,4,4,4,4,4,4,4,4,4,4,4,4,4,4,4,4,4,4,4,4,3,3,3,3,3,3,3,3,3,3,3,3,3,3,3,3,3,3,3,3,2,2,2,2,2,2,2,2,2,2,2,2,2,2,2,2,2,1,1,1,1,1,1,1,1,1,1,1,1,1,1,1,1,1,1,1,1,1,1]\n",
        "amplitude1=max(num_friends1)-min(num_friends1)\n",
        "\n",
        "num_friends2 = [100.0,49,41,40,25,21,21,19,19,18,18,16,15,15,15,15,14,14,13,13,13,13,12,12,11,10,10,10,10,10,10,10,10,10,10,10,10,10,10,10,9,1]\n",
        "amplitude2=max(num_friends2)-min(num_friends2)\n",
        "\n",
        "print(amplitude1,amplitude2) # Os dois dados possuem o mesmo valor de amplitude, mas o conjunto de dados é diferente. \n",
        "                             # Logo, a amplitude não depende do conjunto como um todo para descrever a dispersão e não diz muita coisa sozinho\n"
      ],
      "metadata": {
        "colab": {
          "base_uri": "https://localhost:8080/"
        },
        "id": "IFp4W4ycjbx_",
        "outputId": "1ba099e6-3cea-4e61-bd1e-fa8006d1559c"
      },
      "execution_count": null,
      "outputs": [
        {
          "output_type": "stream",
          "name": "stdout",
          "text": [
            "99.0 99.0\n"
          ]
        }
      ]
    },
    {
      "cell_type": "markdown",
      "source": [
        "\n",
        "* **Variância:** é uma medida de dispersão que mostra o quão distante os valores do conjunto estão do valor central médio.\n",
        "\n"
      ],
      "metadata": {
        "id": "or39AJj2o4Bl"
      }
    },
    {
      "cell_type": "code",
      "source": [
        "import statistics\n",
        "from statistics import variance\n",
        "\n",
        "num_friends1 = [100.0,49,41,40,25,21,21,19,19,18,18,16,15,15,15,15,14,14,13,13,13,13,12,12,11,10,10,10,10,10,10,10,10,10,10,10,10,10,10,10,9,9,9,9,9,9,9,9,9,9,9,9,9,9,9,9,9,9,8,8,8,8,8,8,8,8,8,8,8,8,8,7,7,7,7,7,7,7,7,7,7,7,7,7,7,7,6,6,6,6,6,6,6,6,6,6,6,6,6,6,6,6,6,6,6,6,6,6,5,5,5,5,5,5,5,5,5,5,5,5,5,5,5,5,5,4,4,4,4,4,4,4,4,4,4,4,4,4,4,4,4,4,4,4,4,3,3,3,3,3,3,3,3,3,3,3,3,3,3,3,3,3,3,3,3,2,2,2,2,2,2,2,2,2,2,2,2,2,2,2,2,2,1,1,1,1,1,1,1,1,1,1,1,1,1,1,1,1,1,1,1,1,1,1]\n",
        "num_friends2 = [100.0,49,41,40,25,21,21,19,19,18,18,16,15,15,15,15,14,14,13,13,13,13,12,12,11,10,10,10,10,10,10,10,10,10,10,10,10,10,10,10,9,1]\n",
        "\n",
        "var1=statistics.variance(num_friends1)\n",
        "var2=statistics.variance(num_friends2)\n",
        "\n",
        "print(var1,var2)"
      ],
      "metadata": {
        "colab": {
          "base_uri": "https://localhost:8080/"
        },
        "id": "JhkZPmsUzQk9",
        "outputId": "760912b3-611e-4441-b9ea-687d13fca6c6"
      },
      "execution_count": 20,
      "outputs": [
        {
          "output_type": "stream",
          "name": "stdout",
          "text": [
            "81.54351395730706 252.74332171893147\n"
          ]
        }
      ]
    },
    {
      "cell_type": "markdown",
      "source": [
        "## **Covariância** \n",
        "Mede o quão distante os valores do conjunto x e y estão do valor central médio."
      ],
      "metadata": {
        "id": "IFrzIUN4qnzk"
      }
    },
    {
      "cell_type": "code",
      "source": [
        "import numpy as np\n",
        "\n",
        "num_friends = [100.0,49,41,40,25,21,21,19,19,18,18,16,15,15,15,15,14,14,13,13,13,13,12,12,11,10,10,10,10,10,10,10,10,10,10,10,10,10,10,10,9,9,9,9,9,9,9,9,9,9,9,9,9,9,9,9,9,9,8,8,8,8,8,8,8,8,8,8,8,8,8,7,7,7,7,7,7,7,7,7,7,7,7,7,7,7,6,6,6,6,6,6,6,6,6,6,6,6,6,6,6,6,6,6,6,6,6,6,5,5,5,5,5,5,5,5,5,5,5,5,5,5,5,5,5,4,4,4,4,4,4,4,4,4,4,4,4,4,4,4,4,4,4,4,4,3,3,3,3,3,3,3,3,3,3,3,3,3,3,3,3,3,3,3,3,2,2,2,2,2,2,2,2,2,2,2,2,2,2,2,2,2,1,1,1,1,1,1,1,1,1,1,1,1,1,1,1,1,1,1,1,1,1,1]\n",
        "daily_minutes = [1,68.77,51.25,52.08,38.36,44.54,57.13,51.4,41.42,31.22,34.76,54.01,38.79,47.59,49.1,27.66,41.03,36.73,48.65,28.12,46.62,35.57,32.98,35,26.07,23.77,39.73,40.57,31.65,31.21,36.32,20.45,21.93,26.02,27.34,23.49,46.94,30.5,33.8,24.23,21.4,27.94,32.24,40.57,25.07,19.42,22.39,18.42,46.96,23.72,26.41,26.97,36.76,40.32,35.02,29.47,30.2,31,38.11,38.18,36.31,21.03,30.86,36.07,28.66,29.08,37.28,15.28,24.17,22.31,30.17,25.53,19.85,35.37,44.6,17.23,13.47,26.33,35.02,32.09,24.81,19.33,28.77,24.26,31.98,25.73,24.86,16.28,34.51,15.23,39.72,40.8,26.06,35.76,34.76,16.13,44.04,18.03,19.65,32.62,35.59,39.43,14.18,35.24,40.13,41.82,35.45,36.07,43.67,24.61,20.9,21.9,18.79,27.61,27.21,26.61,29.77,20.59,27.53,13.82,33.2,25,33.1,36.65,18.63,14.87,22.2,36.81,25.53,24.62,26.25,18.21,28.08,19.42,29.79,32.8,35.99,28.32,27.79,35.88,29.06,36.28,14.1,36.63,37.49,26.9,18.58,38.48,24.48,18.95,33.55,14.24,29.04,32.51,25.63,22.22,19,32.73,15.16,13.9,27.2,32.01,29.27,33,13.74,20.42,27.32,18.23,35.35,28.48,9.08,24.62,20.12,35.26,19.92,31.02,16.49,12.16,30.7,31.22,34.65,13.13,27.51,33.2,31.57,14.1,33.42,17.44,10.12,24.42,9.82,23.39,30.93,15.03,21.67,31.09,33.29,22.61,26.89,23.48,8.38,27.81,32.35,23.84]\n",
        "\n",
        "#O livro adota num_friends como eixo x e daily_minutes como eixo y\n",
        "\n",
        "cov=np.cov(num_friends,daily_minutes)\n",
        "print(cov) #cov de xi e yj é igual a 22.42543514 (Cij) a posição cii=81.54351396 é a variância\n",
        "\n",
        "'''Analisar somente a Covariância pode ser um pouco difícil, pois além os números não estão normalizados\n",
        "e uma cov alta o baixa depende dos valores contidos nos conjuntos''' \n"
      ],
      "metadata": {
        "colab": {
          "base_uri": "https://localhost:8080/"
        },
        "id": "-h8XyRCOs6xj",
        "outputId": "06f6b6e1-b28c-455c-9ec7-aabd89281211"
      },
      "execution_count": 1,
      "outputs": [
        {
          "output_type": "stream",
          "name": "stdout",
          "text": [
            "[[ 81.54351396  22.42543514]\n",
            " [ 22.42543514 100.78589895]]\n"
          ]
        }
      ]
    },
    {
      "cell_type": "markdown",
      "source": [
        "##Correlação\n",
        "\n",
        "Divide os desvios padrões das variáveis de x e y. Seu resultado está limitado entre -1 (correlação não perfeita ou anticorrelação perfeita) e 1 (correlação perfeita). Correlação=0 indica que não há correlação linear entre as duas variáveis."
      ],
      "metadata": {
        "id": "LLrmRQLkxC12"
      }
    },
    {
      "cell_type": "code",
      "source": [
        "import numpy as np\n",
        "\n",
        "num_friends = [100.0,49,41,40,25,21,21,19,19,18,18,16,15,15,15,15,14,14,13,13,13,13,12,12,11,10,10,10,10,10,10,10,10,10,10,10,10,10,10,10,9,9,9,9,9,9,9,9,9,9,9,9,9,9,9,9,9,9,8,8,8,8,8,8,8,8,8,8,8,8,8,7,7,7,7,7,7,7,7,7,7,7,7,7,7,7,6,6,6,6,6,6,6,6,6,6,6,6,6,6,6,6,6,6,6,6,6,6,5,5,5,5,5,5,5,5,5,5,5,5,5,5,5,5,5,4,4,4,4,4,4,4,4,4,4,4,4,4,4,4,4,4,4,4,4,3,3,3,3,3,3,3,3,3,3,3,3,3,3,3,3,3,3,3,3,2,2,2,2,2,2,2,2,2,2,2,2,2,2,2,2,2,1,1,1,1,1,1,1,1,1,1,1,1,1,1,1,1,1,1,1,1,1,1]\n",
        "daily_minutes = [1,68.77,51.25,52.08,38.36,44.54,57.13,51.4,41.42,31.22,34.76,54.01,38.79,47.59,49.1,27.66,41.03,36.73,48.65,28.12,46.62,35.57,32.98,35,26.07,23.77,39.73,40.57,31.65,31.21,36.32,20.45,21.93,26.02,27.34,23.49,46.94,30.5,33.8,24.23,21.4,27.94,32.24,40.57,25.07,19.42,22.39,18.42,46.96,23.72,26.41,26.97,36.76,40.32,35.02,29.47,30.2,31,38.11,38.18,36.31,21.03,30.86,36.07,28.66,29.08,37.28,15.28,24.17,22.31,30.17,25.53,19.85,35.37,44.6,17.23,13.47,26.33,35.02,32.09,24.81,19.33,28.77,24.26,31.98,25.73,24.86,16.28,34.51,15.23,39.72,40.8,26.06,35.76,34.76,16.13,44.04,18.03,19.65,32.62,35.59,39.43,14.18,35.24,40.13,41.82,35.45,36.07,43.67,24.61,20.9,21.9,18.79,27.61,27.21,26.61,29.77,20.59,27.53,13.82,33.2,25,33.1,36.65,18.63,14.87,22.2,36.81,25.53,24.62,26.25,18.21,28.08,19.42,29.79,32.8,35.99,28.32,27.79,35.88,29.06,36.28,14.1,36.63,37.49,26.9,18.58,38.48,24.48,18.95,33.55,14.24,29.04,32.51,25.63,22.22,19,32.73,15.16,13.9,27.2,32.01,29.27,33,13.74,20.42,27.32,18.23,35.35,28.48,9.08,24.62,20.12,35.26,19.92,31.02,16.49,12.16,30.7,31.22,34.65,13.13,27.51,33.2,31.57,14.1,33.42,17.44,10.12,24.42,9.82,23.39,30.93,15.03,21.67,31.09,33.29,22.61,26.89,23.48,8.38,27.81,32.35,23.84]\n",
        "\n",
        "\n",
        "corr=cov[0][1]/np.std(num_friends)/np.std(daily_minutes)\n",
        "print(corr) #corr=0.24858814299318 logo a correlação entre numero de amigos por pessoa e minutos nas redes sociais é positiva e fraca.\n",
        "\n"
      ],
      "metadata": {
        "colab": {
          "base_uri": "https://localhost:8080/"
        },
        "id": "tMOpYQTIxKky",
        "outputId": "251d9e17-0ad1-4c57-d627-5f1fce9705e9"
      },
      "execution_count": 11,
      "outputs": [
        {
          "output_type": "stream",
          "name": "stdout",
          "text": [
            "0.24858814299318\n"
          ]
        }
      ]
    },
    {
      "cell_type": "markdown",
      "source": [
        "Plotando o gráfico de correlação, percebemos que temos outliers presentes e que isto afeta a nossa análise, pois a correlação é sensível a outlier."
      ],
      "metadata": {
        "id": "e1EuMXclv8i6"
      }
    },
    {
      "cell_type": "code",
      "source": [
        "import matplotlib.pyplot as plt\n",
        "\n",
        "num_friends = [100.0,49,41,40,25,21,21,19,19,18,18,16,15,15,15,15,14,14,13,13,13,13,12,12,11,10,10,10,10,10,10,10,10,10,10,10,10,10,10,10,9,9,9,9,9,9,9,9,9,9,9,9,9,9,9,9,9,9,8,8,8,8,8,8,8,8,8,8,8,8,8,7,7,7,7,7,7,7,7,7,7,7,7,7,7,7,6,6,6,6,6,6,6,6,6,6,6,6,6,6,6,6,6,6,6,6,6,6,5,5,5,5,5,5,5,5,5,5,5,5,5,5,5,5,5,4,4,4,4,4,4,4,4,4,4,4,4,4,4,4,4,4,4,4,4,3,3,3,3,3,3,3,3,3,3,3,3,3,3,3,3,3,3,3,3,2,2,2,2,2,2,2,2,2,2,2,2,2,2,2,2,2,1,1,1,1,1,1,1,1,1,1,1,1,1,1,1,1,1,1,1,1,1,1]\n",
        "daily_minutes = [1,68.77,51.25,52.08,38.36,44.54,57.13,51.4,41.42,31.22,34.76,54.01,38.79,47.59,49.1,27.66,41.03,36.73,48.65,28.12,46.62,35.57,32.98,35,26.07,23.77,39.73,40.57,31.65,31.21,36.32,20.45,21.93,26.02,27.34,23.49,46.94,30.5,33.8,24.23,21.4,27.94,32.24,40.57,25.07,19.42,22.39,18.42,46.96,23.72,26.41,26.97,36.76,40.32,35.02,29.47,30.2,31,38.11,38.18,36.31,21.03,30.86,36.07,28.66,29.08,37.28,15.28,24.17,22.31,30.17,25.53,19.85,35.37,44.6,17.23,13.47,26.33,35.02,32.09,24.81,19.33,28.77,24.26,31.98,25.73,24.86,16.28,34.51,15.23,39.72,40.8,26.06,35.76,34.76,16.13,44.04,18.03,19.65,32.62,35.59,39.43,14.18,35.24,40.13,41.82,35.45,36.07,43.67,24.61,20.9,21.9,18.79,27.61,27.21,26.61,29.77,20.59,27.53,13.82,33.2,25,33.1,36.65,18.63,14.87,22.2,36.81,25.53,24.62,26.25,18.21,28.08,19.42,29.79,32.8,35.99,28.32,27.79,35.88,29.06,36.28,14.1,36.63,37.49,26.9,18.58,38.48,24.48,18.95,33.55,14.24,29.04,32.51,25.63,22.22,19,32.73,15.16,13.9,27.2,32.01,29.27,33,13.74,20.42,27.32,18.23,35.35,28.48,9.08,24.62,20.12,35.26,19.92,31.02,16.49,12.16,30.7,31.22,34.65,13.13,27.51,33.2,31.57,14.1,33.42,17.44,10.12,24.42,9.82,23.39,30.93,15.03,21.67,31.09,33.29,22.61,26.89,23.48,8.38,27.81,32.35,23.84]\n",
        "\n",
        "\n",
        "plt.plot (num_friends,daily_minutes, '*')\n",
        "plt.ylabel('minutos por dia')\n",
        "plt.xlabel('nº de amigos')\n",
        "plt.title('Correlação contendo outlier')\n",
        "plt.show()"
      ],
      "metadata": {
        "colab": {
          "base_uri": "https://localhost:8080/",
          "height": 472
        },
        "id": "sic3DU2S0KGO",
        "outputId": "9661abba-f0bf-4406-dcfb-b82e668ac85a"
      },
      "execution_count": 28,
      "outputs": [
        {
          "output_type": "display_data",
          "data": {
            "text/plain": [
              "<Figure size 640x480 with 1 Axes>"
            ],
            "image/png": "[encoded data removed]"
          },
          "metadata": {}
        }
      ]
    },
    {
      "cell_type": "markdown",
      "source": [
        "Como a discrepância entre a pessoa com 100 amigos e o demais é muito grande, iremos retirar este outlier."
      ],
      "metadata": {
        "id": "GQHW21vv1jLF"
      }
    },
    {
      "cell_type": "code",
      "source": [
        "num_friends = [100.0,49,41,40,25,21,21,19,19,18,18,16,15,15,15,15,14,14,13,13,13,13,12,12,11,10,10,10,10,10,10,10,10,10,10,10,10,10,10,10,9,9,9,9,9,9,9,9,9,9,9,9,9,9,9,9,9,9,8,8,8,8,8,8,8,8,8,8,8,8,8,7,7,7,7,7,7,7,7,7,7,7,7,7,7,7,6,6,6,6,6,6,6,6,6,6,6,6,6,6,6,6,6,6,6,6,6,6,5,5,5,5,5,5,5,5,5,5,5,5,5,5,5,5,5,4,4,4,4,4,4,4,4,4,4,4,4,4,4,4,4,4,4,4,4,3,3,3,3,3,3,3,3,3,3,3,3,3,3,3,3,3,3,3,3,2,2,2,2,2,2,2,2,2,2,2,2,2,2,2,2,2,1,1,1,1,1,1,1,1,1,1,1,1,1,1,1,1,1,1,1,1,1,1]\n",
        "daily_minutes = [1,68.77,51.25,52.08,38.36,44.54,57.13,51.4,41.42,31.22,34.76,54.01,38.79,47.59,49.1,27.66,41.03,36.73,48.65,28.12,46.62,35.57,32.98,35,26.07,23.77,39.73,40.57,31.65,31.21,36.32,20.45,21.93,26.02,27.34,23.49,46.94,30.5,33.8,24.23,21.4,27.94,32.24,40.57,25.07,19.42,22.39,18.42,46.96,23.72,26.41,26.97,36.76,40.32,35.02,29.47,30.2,31,38.11,38.18,36.31,21.03,30.86,36.07,28.66,29.08,37.28,15.28,24.17,22.31,30.17,25.53,19.85,35.37,44.6,17.23,13.47,26.33,35.02,32.09,24.81,19.33,28.77,24.26,31.98,25.73,24.86,16.28,34.51,15.23,39.72,40.8,26.06,35.76,34.76,16.13,44.04,18.03,19.65,32.62,35.59,39.43,14.18,35.24,40.13,41.82,35.45,36.07,43.67,24.61,20.9,21.9,18.79,27.61,27.21,26.61,29.77,20.59,27.53,13.82,33.2,25,33.1,36.65,18.63,14.87,22.2,36.81,25.53,24.62,26.25,18.21,28.08,19.42,29.79,32.8,35.99,28.32,27.79,35.88,29.06,36.28,14.1,36.63,37.49,26.9,18.58,38.48,24.48,18.95,33.55,14.24,29.04,32.51,25.63,22.22,19,32.73,15.16,13.9,27.2,32.01,29.27,33,13.74,20.42,27.32,18.23,35.35,28.48,9.08,24.62,20.12,35.26,19.92,31.02,16.49,12.16,30.7,31.22,34.65,13.13,27.51,33.2,31.57,14.1,33.42,17.44,10.12,24.42,9.82,23.39,30.93,15.03,21.67,31.09,33.29,22.61,26.89,23.48,8.38,27.81,32.35,23.84]\n",
        "\n",
        "out=100\n",
        "for i in range(len(num_friends)-1): #len num_friends=len daily_minutes\n",
        "  if num_friends[i]==out:\n",
        "    del num_friends[i] #exclui outlier \n",
        "    del daily_minutes[i] #exclui outlier \n",
        "\n",
        "cov=np.cov(num_friends,daily_minutes)\n",
        "corr=cov[0][1]/np.std(num_friends)/np.std(daily_minutes)\n",
        "print(corr) #corr=0.5765192076634238\n",
        "\n",
        "#plotando o gráfico sem outlier\n",
        "plt.plot (num_friends,daily_minutes, '*')\n",
        "plt.ylabel('minutos por dia')\n",
        "plt.xlabel('nº de amigos')\n",
        "plt.title('Correlação sem outlier')\n",
        "plt.show()"
      ],
      "metadata": {
        "colab": {
          "base_uri": "https://localhost:8080/",
          "height": 489
        },
        "id": "sgV-a7OJ1hRg",
        "outputId": "958708b4-f06e-4b0d-9066-146de7d155a7"
      },
      "execution_count": 30,
      "outputs": [
        {
          "output_type": "stream",
          "name": "stdout",
          "text": [
            "0.5765192076634238\n"
          ]
        },
        {
          "output_type": "display_data",
          "data": {
            "text/plain": [
              "<Figure size 640x480 with 1 Axes>"
            ],
            "image/png": "[encoded data removed]"
          },
          "metadata": {}
        }
      ]
    },
    {
      "cell_type": "markdown",
      "source": [
        "Para os temas de probabilidade e inferência, irei pulá-los pois ainda lembro bem da época da faculdade."
      ],
      "metadata": {
        "id": "fdVrzEd25grT"
      }
    },
    {
      "cell_type": "markdown",
      "source": [
        "#Gradiente Descendente"
      ],
      "metadata": {
        "id": "S5_UAngO5nBa"
      }
    }
  ]
}